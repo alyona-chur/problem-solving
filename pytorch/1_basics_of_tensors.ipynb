{
 "cells": [
  {
   "cell_type": "markdown",
   "metadata": {},
   "source": [
    "# I Basics of Tensors\n",
    "## Tensor Creation"
   ]
  },
  {
   "cell_type": "code",
   "execution_count": null,
   "metadata": {},
   "outputs": [],
   "source": [
    "import numpy as np\n",
    "import torch"
   ]
  },
  {
   "cell_type": "code",
   "execution_count": null,
   "metadata": {},
   "outputs": [],
   "source": [
    "# Create a tensor from a list\n",
    "from_list = torch.tensor([1, 2, 3, 4])\n",
    "print(f'{from_list=}\\n')\n",
    "\n",
    "# Create a 2x3 tensor filled with zeros\n",
    "zeros = torch.zeros(2, 3)\n",
    "print(f'{zeros=}\\n')\n",
    "\n",
    "# Create a 3x3 tensor filled with ones\n",
    "ones = torch.ones(3, 3)\n",
    "print(f'{ones=}\\n')\n",
    "\n",
    "# Create a 2x2 tensor with random values\n",
    "random_tensor = torch.rand(2, 2)\n",
    "print(f'{random_tensor=}\\n')"
   ]
  },
  {
   "cell_type": "markdown",
   "metadata": {},
   "source": [
    "## Tensor Types and Shapes\n",
    "[Tensor Data Types](https://pytorch.org/docs/stable/tensor_attributes.html#torch-dtype)"
   ]
  },
  {
   "cell_type": "code",
   "execution_count": null,
   "metadata": {},
   "outputs": [],
   "source": [
    "# Attributes\n",
    "x = torch.tensor([1, 2, 3, 4], dtype=torch.float32)\n",
    "print(f'{x.shape=}\\n')\n",
    "print(f'{x.dtype=}\\n')\n",
    "print(f'{x.device=}\\n')  # The device on which a torch.Tensor is or will be allocated."
   ]
  },
  {
   "cell_type": "code",
   "execution_count": null,
   "metadata": {},
   "outputs": [],
   "source": [
    "x = torch.rand(4, 4)\n",
    "print(f'{x=}\\n')\n",
    "\n",
    "# Change the shape\n",
    "reshaped = x.view(2, 8)\n",
    "print(f'{reshaped=}, {reshaped.shape=}, {reshaped.size()=}\\n')\n",
    "\n",
    "reshaped = x.reshape(16, 1)\n",
    "print(f'{reshaped=}, {reshaped.shape=}, {reshaped.size()=}\\n')"
   ]
  },
  {
   "cell_type": "markdown",
   "metadata": {},
   "source": [
    "## Indexing and Slicing"
   ]
  },
  {
   "cell_type": "code",
   "execution_count": null,
   "metadata": {},
   "outputs": [],
   "source": [
    "z = torch.tensor([[1, 2], [3, 4], [5, 6]])\n",
    "print(f'{z=}\\n')\n",
    "\n",
    "# Access element in first row and second column\n",
    "print(f'{z[0, 1]=}\\n')\n",
    "\n",
    "# Access the first two rows\n",
    "print(f'{z[:2]=}\\n')\n",
    "\n",
    "# Set the element at row 1, column 0 to 10\n",
    "z[1, 0] = 10\n",
    "print(f'{z=}\\n')"
   ]
  },
  {
   "cell_type": "markdown",
   "metadata": {},
   "source": [
    "## Tensor Operations"
   ]
  },
  {
   "cell_type": "code",
   "execution_count": null,
   "metadata": {},
   "outputs": [],
   "source": [
    "# Element-wise operations\n",
    "a = torch.tensor([1, 2, 3])\n",
    "b = torch.tensor([4, 5, 6])\n",
    "print(f'{a=}\\n{b=}\\n')\n",
    "\n",
    "# Addition\n",
    "c = a + b\n",
    "print(f'Addition:{c}\\n')\n",
    "\n",
    "# Subtraction\n",
    "d = b - a\n",
    "print(f'Subtraction:{d}\\n')\n",
    "\n",
    "# Multiplication\n",
    "e = a * b\n",
    "print(f'Multiplication:{e}\\n')\n",
    "\n",
    "# Division\n",
    "f = b / a\n",
    "print(f'Division:{f}\\n')"
   ]
  },
  {
   "cell_type": "code",
   "execution_count": null,
   "metadata": {},
   "outputs": [],
   "source": [
    "# Matrix operations\n",
    "x = torch.tensor([[1, 2], [3, 4]])\n",
    "y = torch.tensor([[5, 6], [7, 8]])\n",
    "print(f'{x=}\\n{y=}\\n')\n",
    "\n",
    "# Dot product\n",
    "dot_product = torch.dot(x.flatten(), y.flatten())\n",
    "print(f'Dot Product:{dot_product}\\n')\n",
    "\n",
    "# Matrix multiplication\n",
    "matrix_mul = torch.matmul(x, y)\n",
    "print(f'Matrix Multiplication:{matrix_mul}\\n')"
   ]
  },
  {
   "cell_type": "markdown",
   "metadata": {},
   "source": [
    "## Broadcasting"
   ]
  },
  {
   "cell_type": "code",
   "execution_count": null,
   "metadata": {},
   "outputs": [],
   "source": [
    "tensor1 = torch.tensor([1, 2, 3])\n",
    "tensor2 = torch.tensor([[1], [2], [5]])\n",
    "print(f'{tensor1=}\\n{tensor2=}\\n')\n",
    "\n",
    "# tensor1 will be broadcasted to match the shape of tensor2\n",
    "result = tensor1 + tensor2\n",
    "print(f'Broadcasting Result:{result}\\n')\n",
    "\n",
    "result = tensor1 * tensor2\n",
    "print(f'Broadcasting Result:{result}')"
   ]
  },
  {
   "cell_type": "markdown",
   "metadata": {},
   "source": [
    "## Reshaping Tensors"
   ]
  },
  {
   "cell_type": "code",
   "execution_count": null,
   "metadata": {},
   "outputs": [],
   "source": [
    "tensor = torch.arange(1, 10)\n",
    "print(f'{tensor=}\\n')\n",
    "\n",
    "reshaped_tensor = tensor.view(3, 3)\n",
    "print(f'Reshaped with view:{reshaped_tensor}\\n')\n",
    "\n",
    "reshaped_tensor = tensor.reshape(3, 3)\n",
    "print(f'Reshaped with reshape:{reshaped_tensor}\\n', )\n",
    "\n",
    "transposed_tensor = tensor.view(3, 3).transpose(0, 1)\n",
    "print(f'Transposed Tensor:{transposed_tensor}')"
   ]
  },
  {
   "cell_type": "markdown",
   "metadata": {},
   "source": [
    "## Tensor Concatenation and Stacking"
   ]
  },
  {
   "cell_type": "code",
   "execution_count": null,
   "metadata": {},
   "outputs": [],
   "source": [
    "# Concatenation\n",
    "tensor1 = torch.tensor([[1, 2], [3, 4]])\n",
    "tensor2 = torch.tensor([[5, 6], [7, 8]])\n",
    "print(f'{tensor1=}\\n{tensor2=}\\n')\n",
    "\n",
    "# Concatenate along the first dimension (rows)\n",
    "concatenated_tensor = torch.cat((tensor1, tensor2), dim=0)\n",
    "print(f'Concatenated Tensor along rows:{concatenated_tensor}\\n')\n",
    "\n",
    "# Concatenate along the second dimension (columns)\n",
    "concatenated_tensor = torch.cat((tensor1, tensor2), dim=1)\n",
    "print(f'Concatenated Tensor along columns:{concatenated_tensor}\\n')\n",
    "\n",
    "# Stack tensors along a new dimension\n",
    "stacked_tensor = torch.stack((tensor1, tensor2), dim=0)\n",
    "print(f'Stacked Tensor:{stacked_tensor}')"
   ]
  },
  {
   "cell_type": "markdown",
   "metadata": {},
   "source": [
    "## In-place Operations"
   ]
  },
  {
   "cell_type": "code",
   "execution_count": null,
   "metadata": {},
   "outputs": [],
   "source": [
    "tensor = torch.tensor([1, 2, 3, 4])\n",
    "print(f'{tensor=}')\n",
    "\n",
    "# In-place addition: adds 5 to all elements of the tensor\n",
    "tensor.add_(5)\n",
    "print(f'After in-place addition:{tensor}')\n",
    "\n",
    "# In-place multiplication: multiplies all elements of the tensor by 2\n",
    "tensor.mul_(2)\n",
    "print(f'After in-place multiplication:{tensor}')"
   ]
  },
  {
   "cell_type": "markdown",
   "metadata": {},
   "source": [
    "## Conversion between NumPy and PyTorch"
   ]
  },
  {
   "cell_type": "code",
   "execution_count": null,
   "metadata": {},
   "outputs": [],
   "source": [
    "np_array = np.array([[1, 2], [3, 4]])\n",
    "print(f'NumPy Array:{np_array}\\n')\n",
    "\n",
    "# Convert to a PyTorch Tensor\n",
    "torch_tensor = torch.from_numpy(np_array)\n",
    "print(f'PyTorch Tensor:{torch_tensor}\\n')\n",
    "\n",
    "# Convert back to a NumPy array\n",
    "np_array_converted = torch_tensor.numpy()\n",
    "print(f'Converted NumPy Array:{np_array_converted}')"
   ]
  },
  {
   "cell_type": "markdown",
   "metadata": {},
   "source": [
    "## Device Management"
   ]
  },
  {
   "cell_type": "code",
   "execution_count": null,
   "metadata": {},
   "outputs": [],
   "source": [
    "tensor = torch.tensor([1, 2, 3, 4])\n",
    "\n",
    "# Check if CUDA (GPU support) is available\n",
    "if torch.cuda.is_available():\n",
    "    # Move the tensor to the GPU\n",
    "    tensor_gpu = tensor.to('cuda')\n",
    "    print(f'Tensor on GPU:{tensor_gpu}')\n",
    "\n",
    "    # Move the tensor back to the CPU\n",
    "    tensor_cpu = tensor_gpu.to('cpu')\n",
    "    print('Tensor on CPU:{tensor_cpu}')\n",
    "else:\n",
    "    print('CUDA is not available. Tensor stays on CPU.')"
   ]
  }
 ],
 "metadata": {
  "kernelspec": {
   "display_name": "Python 3 (ipykernel)",
   "language": "python",
   "name": "python3"
  },
  "language_info": {
   "codemirror_mode": {
    "name": "ipython",
    "version": 3
   },
   "file_extension": ".py",
   "mimetype": "text/x-python",
   "name": "python",
   "nbconvert_exporter": "python",
   "pygments_lexer": "ipython3",
   "version": "3.10.13"
  }
 },
 "nbformat": 4,
 "nbformat_minor": 4
}
